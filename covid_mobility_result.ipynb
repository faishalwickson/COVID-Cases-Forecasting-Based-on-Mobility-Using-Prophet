{
  "cells": [
    {
      "cell_type": "markdown",
      "metadata": {
        "id": "view-in-github",
        "colab_type": "text"
      },
      "source": [
        "<a href=\"https://colab.research.google.com/github/faishalwickson/COVID-Cases-Forecasting-Based-on-Mobility-Using-Prophet/blob/main/covid_mobility_result.ipynb\" target=\"_parent\"><img src=\"https://colab.research.google.com/assets/colab-badge.svg\" alt=\"Open In Colab\"/></a>"
      ]
    },
    {
      "cell_type": "markdown",
      "metadata": {
        "id": "t2_tO5S-SYev"
      },
      "source": [
        "# Importing Libraries"
      ]
    },
    {
      "cell_type": "code",
      "execution_count": 1,
      "metadata": {
        "id": "x79yCIwhSVRl"
      },
      "outputs": [],
      "source": [
        "import pandas as pd\n",
        "import numpy as np\n",
        "import warnings\n",
        "warnings.filterwarnings('ignore')\n",
        "\n",
        "# access API\n",
        "import requests\n",
        "import urllib.request\n",
        "from bs4 import BeautifulSoup\n",
        "import re\n",
        "import json"
      ]
    },
    {
      "cell_type": "markdown",
      "metadata": {
        "id": "qTrDhhg-SKHn"
      },
      "source": [
        "# BPS Java-Bali Covid Cases"
      ]
    },
    {
      "cell_type": "markdown",
      "metadata": {
        "id": "YZz-nIUcTCP1"
      },
      "source": [
        "## Extract"
      ]
    },
    {
      "cell_type": "code",
      "execution_count": 2,
      "metadata": {
        "id": "8pe6-_CzR-mU"
      },
      "outputs": [],
      "source": [
        "# sub region list\n",
        "province = ['DKI_JAKARTA', 'JAWA_BARAT', 'JAWA_TIMUR', 'JAWA_TENGAH', 'SULAWESI_SELATAN',\n",
        "            'BANTEN', 'NUSA_TENGGARA_BARAT', 'BALI', 'PAPUA', 'KALIMANTAN_SELATAN',\n",
        "            'SUMATERA_BARAT', 'SUMATERA_SELATAN', 'KALIMANTAN_TENGAH', 'KALIMANTAN_TIMUR',\n",
        "            'SUMATERA_UTARA', 'DAERAH_ISTIMEWA_YOGYAKARTA', 'KALIMANTAN_UTARA',\n",
        "            'KEPULAUAN_RIAU', 'KALIMANTAN_BARAT', 'SULAWESI_TENGGARA', 'LAMPUNG',\n",
        "            'SULAWESI_UTARA', 'SULAWESI_TENGAH', 'RIAU', 'PAPUA_BARAT', 'SULAWESI_BARAT',\n",
        "            'JAMBI', 'GORONTALO', 'MALUKU_UTARA', 'MALUKU', 'KEPULAUAN_BANGKA_BELITUNG',\n",
        "            'ACEH', 'BENGKULU', 'NUSA_TENGGARA_TIMUR']\n",
        "\n",
        "# dummy arrays\n",
        "resp = [None]*len(province)\n",
        "cov_data = []\n",
        "data_covid = []\n",
        "cov_raw = {}"
      ]
    },
    {
      "cell_type": "code",
      "execution_count": 3,
      "metadata": {
        "id": "hCkaJ5GzTV7F"
      },
      "outputs": [],
      "source": [
        "# access API\n",
        "df = []\n",
        "for i in range(0, len(province)):\n",
        "  resp = requests.get('https://data.covid19.go.id/public/api/prov_detail_'+province[i]+'.json')\n",
        "  cov_raw = resp.json()\n",
        "  covid = pd.DataFrame(cov_raw['list_perkembangan'])\n",
        "  covid['province'] = [province[i]]*len(covid)\n",
        "  df.append(covid)\n",
        "  \n",
        "results = pd.concat(df, ignore_index=True) # concatenate data of each province\n",
        "\n",
        "# convert to date time\n",
        "results['tanggal'] = pd.to_datetime(results['tanggal']*1e6, unit='ns')"
      ]
    },
    {
      "cell_type": "markdown",
      "metadata": {
        "id": "9p25BlseTctr"
      },
      "source": [
        "## Transform"
      ]
    },
    {
      "cell_type": "code",
      "execution_count": 4,
      "metadata": {
        "id": "e6nBPpxPTeVa"
      },
      "outputs": [],
      "source": [
        "# tidy up data\n",
        "results_tidy = (results.drop(columns=[item for item in results.columns if item.startswith('AKUMULASI') or item.startswith('DIRAWAT')])\n",
        "                  .rename(columns=str.lower)\n",
        "                  .rename(columns={'kasus':'y',\n",
        "                                   'tanggal': 'ds',\n",
        "                                   'meninggal': 'death',\n",
        "                                   'sembuh': 'recovered'}))"
      ]
    },
    {
      "cell_type": "code",
      "execution_count": 5,
      "metadata": {
        "id": "0nxwMLbwJt2w"
      },
      "outputs": [],
      "source": [
        "# Filter the country region\n",
        "for region in ['DKI_JAKARTA', 'JAWA_BARAT', 'BANTEN', 'JAWA_TENGAH','JAWA_TIMUR', \n",
        "               'DAERAH_ISTIMEWA_YOGYAKARTA', 'BALI']:\n",
        "  temp = results_tidy.loc[results_tidy['province'].isin([region])]\n",
        "  temp = temp.drop(['province'], axis=1) # drop column\n",
        "  \n",
        "  # saving dataframe\n",
        "  if region in ['DKI_JAKARTA']: df_jkt = temp\n",
        "  elif region in ['JAWA_BARAT']: df_jbr = temp\n",
        "  elif region in ['BANTEN']: df_bnt = temp\n",
        "  elif region in ['JAWA_TENGAH']: df_jtg = temp\n",
        "  elif region in ['JAWA_TIMUR']: df_jtm = temp\n",
        "  elif region in ['DAERAH_ISTIMEWA_YOGYAKARTA']: df_diy = temp\n",
        "  elif region in ['BALI']: df_bli = temp"
      ]
    },
    {
      "cell_type": "code",
      "execution_count": 6,
      "metadata": {
        "id": "vX0gWF2jknhw",
        "colab": {
          "base_uri": "https://localhost:8080/",
          "height": 0
        },
        "outputId": "72a64082-5d81-4fa1-cedc-4c6e7946daa8"
      },
      "outputs": [
        {
          "output_type": "execute_result",
          "data": {
            "text/plain": [
              "<matplotlib.axes._subplots.AxesSubplot at 0x7f8f50fc52d0>"
            ]
          },
          "metadata": {},
          "execution_count": 6
        },
        {
          "output_type": "display_data",
          "data": {
            "text/plain": [
              "<Figure size 720x360 with 1 Axes>"
            ],
            "image/png": "[encoded data removed]"
          },
          "metadata": {
            "needs_background": "light"
          }
        }
      ],
      "source": [
        "# visualize the data\n",
        "df_jkt.plot(x='ds', y='y', figsize=(10,5), title=\"penambahan kasus positif COVID-19\")"
      ]
    },
    {
      "cell_type": "markdown",
      "metadata": {
        "id": "3F2sqI8hT9Kv"
      },
      "source": [
        "# Google Community Mobility"
      ]
    },
    {
      "cell_type": "markdown",
      "metadata": {
        "id": "gxyK50mMUHZE"
      },
      "source": [
        "## Extract"
      ]
    },
    {
      "cell_type": "code",
      "execution_count": 7,
      "metadata": {
        "id": "jMqc7TadUG4T"
      },
      "outputs": [],
      "source": [
        "# Import data\n",
        "dataset = pd.read_csv('https://www.gstatic.com/covid19/mobility/Global_Mobility_Report.csv', low_memory=False)"
      ]
    },
    {
      "cell_type": "markdown",
      "metadata": {
        "id": "0d4r7KQwUej2"
      },
      "source": [
        "## Transform"
      ]
    },
    {
      "cell_type": "code",
      "execution_count": 8,
      "metadata": {
        "id": "8e5jQwIMUgGe"
      },
      "outputs": [],
      "source": [
        "# Filter the country region\n",
        "dataset = dataset.loc[dataset['country_region'].isin([\"Indonesia\"])]\n",
        "\n",
        "# dropping unnecessary fields\n",
        "dataset = dataset.drop(['country_region_code', 'country_region',\n",
        "                        'sub_region_2','metro_area', 'iso_3166_2_code',\n",
        "                        'census_fips_code', 'place_id'], axis=1)\n",
        "\n",
        "# Rename some columns\n",
        "dataset = dataset.rename(columns={'date': 'ds',\n",
        "                                  'retail_and_recreation_percent_change_from_baseline': 'retail_recreation',\n",
        "                                  'grocery_and_pharmacy_percent_change_from_baseline': 'grocery_pharmacy',\n",
        "                                  'parks_percent_change_from_baseline': 'parks',\n",
        "                                  'transit_stations_percent_change_from_baseline': 'transit_stations',\n",
        "                                  'workplaces_percent_change_from_baseline': 'workplaces',\n",
        "                                  'residential_percent_change_from_baseline': 'residential'})\n",
        "\n",
        "# Replace null values\n",
        "dataset['sub_region_1'].fillna('')\n",
        "for column in ['retail_recreation', 'grocery_pharmacy', 'parks', \n",
        "               'transit_stations', 'workplaces', 'residential']:\n",
        "  dataset[column] = dataset[column].fillna(0)\n",
        "\n",
        "# Adding information on country level\n",
        "dataset.loc[dataset['sub_region_1'] == '', 'sub_region_1'] = '<All Regions>'\n",
        "\n",
        "# Flatten the pivot table and reset the index of the dataframe \n",
        "dataset = pd.DataFrame(dataset.to_records()).reset_index(drop=True)\n",
        "dataset.drop('index', inplace=True, axis=1)\n",
        "\n",
        "# Convert data type for 'ds' to datetime\n",
        "dataset['ds'] = pd.to_datetime(dataset['ds'], unit='ns')"
      ]
    },
    {
      "cell_type": "code",
      "execution_count": 9,
      "metadata": {
        "id": "hVIGzWzlD5wM"
      },
      "outputs": [],
      "source": [
        "# Filter the country region\n",
        "for region in ['Jakarta', 'West Java', 'Banten', 'Central Java',\n",
        "                            'East Java', 'Special Region of Yogyakarta', 'Bali']:\n",
        "  temp = dataset.loc[dataset['sub_region_1'].isin([region])]\n",
        "  temp = temp.drop(['sub_region_1'], axis=1) # drop column\n",
        "  \n",
        "  # saving dataframe\n",
        "  if region in ['Jakarta']: jkt = temp \n",
        "  elif region in ['West Java']: jbr = temp\n",
        "  elif region in ['Banten']: bnt = temp\n",
        "  elif region in ['Central Java']: jtg = temp\n",
        "  elif region in ['East Java']: jtm = temp\n",
        "  elif region in ['Special Region of Yogyakarta']: diy = temp\n",
        "  elif region in ['Bali']: bli = temp"
      ]
    },
    {
      "cell_type": "markdown",
      "metadata": {
        "id": "dFzclwsUaEi6"
      },
      "source": [
        "# Data integration"
      ]
    },
    {
      "cell_type": "code",
      "execution_count": 10,
      "metadata": {
        "id": "k74-sEXUbnVB"
      },
      "outputs": [],
      "source": [
        "# Merge dataset per province with google mobility\n",
        "df_jkt = df_jkt.merge(jkt, how='inner', on='ds')\n",
        "df_jbr = df_jbr.merge(jbr, how='inner', on='ds')\n",
        "df_bnt = df_bnt.merge(bnt, how='inner', on='ds')\n",
        "df_jtg = df_jtg.merge(jtg, how='inner', on='ds')\n",
        "df_diy = df_diy.merge(diy, how='inner', on='ds')\n",
        "df_jtm = df_jtm.merge(jtm, how='inner', on='ds')\n",
        "df_bli = df_bli.merge(bli, how='inner', on='ds')"
      ]
    },
    {
      "cell_type": "markdown",
      "source": [
        "# Forecast"
      ],
      "metadata": {
        "id": "zEw_x4Yzun7T"
      }
    },
    {
      "cell_type": "code",
      "source": [
        "# !install -c conda-forge fbprophet -y"
      ],
      "metadata": {
        "id": "Vk-ZH9iRgtHq"
      },
      "execution_count": 11,
      "outputs": []
    },
    {
      "cell_type": "code",
      "source": [
        "from scipy.stats import skew\n",
        "from sklearn.preprocessing import PowerTransformer\n",
        "from scipy.stats import boxcox\n",
        "from scipy.special import inv_boxcox\n",
        "\n",
        "from prophet import Prophet\n",
        "from prophet import hdays\n",
        "from prophet.diagnostics import cross_validation\n",
        "from prophet.plot import add_changepoints_to_plot\n",
        "from prophet.diagnostics import performance_metrics\n",
        "from prophet.plot import plot_cross_validation_metric\n",
        "\n",
        "import warnings\n",
        "warnings.warn(\"Warning...........Message\")\n",
        "\n",
        "import seaborn as sns\n",
        "\n",
        "import logging\n",
        "logging.getLogger().setLevel(logging.ERROR)\n",
        "\n",
        "from sklearn.metrics import mean_squared_log_error\n",
        "from sklearn.metrics import mean_squared_error\n",
        "def MAPE(y_true, y_pred): \n",
        "  y_true, y_pred = np.array(y_true), np.array(y_pred)\n",
        "  return np.mean(np.abs((y_true - y_pred) / np.maximum(np.ones(len(y_true)), np.abs(y_true))))\n",
        "def mdape(y_true, y_pred): \n",
        "  y_true, y_pred = np.array(y_true), np.array(y_pred)\n",
        "  return np.median(np.abs((y_true - y_pred) / np.maximum(np.ones(len(y_true)), np.abs(y_true))))"
      ],
      "metadata": {
        "id": "K8f3Vm9YvnOO"
      },
      "execution_count": 12,
      "outputs": []
    },
    {
      "cell_type": "code",
      "source": [
        "regr = ['parks', 'workplaces', 'grocery_pharmacy', 'retail_recreation',\n",
        "        'transit_stations', 'residential']\n",
        "period = [30, 30, 21, 21, 21, 14, 7] # forecast period for next few days (changing)\n",
        "h = 7 # moving average and holiday period\n",
        "fcst = 'last period'"
      ],
      "metadata": {
        "id": "Kld0PGTrurHH"
      },
      "execution_count": 13,
      "outputs": []
    },
    {
      "cell_type": "code",
      "source": [
        "holidays_id = hdays.Indonesia()\n",
        "holidays_id._populate(2020)\n",
        "holidays_id._populate(2021)\n",
        "holidays_id._populate(2022)\n",
        "holiday = pd.DataFrame([holidays_id], index=['holiday']).T.rename_axis('ds').reset_index()\n",
        "holiday['lower_window'] = 0\n",
        "holiday['upper_window'] = h\n",
        "\n",
        "cps = [0.8, 0.8, 0.8, 0.8, 0.8, 0.8, 0.25]\n",
        "sps = [10, 5, 1, 10, 5, 0.01, 0.01]\n",
        "cr = [0.95, 0.8, 0.9, 0.8, 0.8, 0.8, 0.8]\n",
        "front = [13, 15, 12, 12, 30, 20, 15]"
      ],
      "metadata": {
        "id": "RijrZWjAwCJB"
      },
      "execution_count": 14,
      "outputs": []
    },
    {
      "cell_type": "code",
      "source": [
        "dfs = [df_jkt, df_jbr, df_jtg, df_jtm, df_bnt, df_bli, df_diy]\n",
        "for iter, df in enumerate(dfs):\n",
        "  df = df.copy()\n",
        "  for i, column in enumerate(df.columns[4:]):\n",
        "    name = 'MA_'+column\n",
        "    df[name] = df[column].rolling(h).mean()\n",
        "    regr[i] = name\n",
        "  df['y'] = df['y'].rolling(h).mean()\n",
        "  df = df[front[iter]:].reset_index(drop=True)\n",
        "  test = pd.concat([df, df[-1*period[iter]:]], ignore_index=True)\n",
        "\n",
        "  data = df[['y']]\n",
        "  data, lam = boxcox(df['y'])\n",
        "  df['y'] = data\n",
        "\n",
        "  m1 = Prophet(changepoint_prior_scale = cps[iter],\n",
        "             changepoint_range = cr[iter],\n",
        "             seasonality_prior_scale = sps[iter],\n",
        "             seasonality_mode = 'additive',\n",
        "             holidays = holiday)\n",
        "  \n",
        "  # add regressors to model\n",
        "  for regressor in regr:\n",
        "    m1.add_regressor(regressor, mode= 'multiplicative')\n",
        "  \n",
        "  # fit the model\n",
        "  m1.fit(df)\n",
        "\n",
        "  # create a dataframe holding dates for forecasting\n",
        "  # periods length equal with test\n",
        "  future = m1.make_future_dataframe(periods=period[iter], freq='D')\n",
        "\n",
        "  # add future fields for regressors\n",
        "  for regressor in regr:\n",
        "    future[regressor] = test[regressor]\n",
        "  \n",
        "  # create the forecast object\n",
        "  forecast = m1.predict(future)\n",
        "\n",
        "  # invers forecast to actual scale\n",
        "  for column in ['yhat', 'yhat_lower', 'yhat_upper', 'trend', 'trend_upper', 'trend_lower']:\n",
        "    forecast[column] = inv_boxcox(forecast[[column]], lam)\n",
        "  m1.history['y'] = inv_boxcox(m1.history[['y']], lam)\n",
        "\n",
        "  load = forecast[['ds', 'trend', 'extra_regressors_multiplicative', 'holidays',\n",
        "                   'MA_grocery_pharmacy', 'MA_parks', 'MA_residential',\n",
        "                   'MA_retail_recreation', 'MA_transit_stations', 'MA_workplaces',\n",
        "                   'weekly', 'yearly', 'yhat']]\n",
        "  load['actual'] = m1.history[['y']]\n",
        "  load['ape'] = np.abs((load['actual'][:-1*period[iter]] - \n",
        "                        load['yhat'][:-1*period[iter]]) / \n",
        "                       np.maximum(np.ones(len(load['actual'][:-1*period[iter]])), \n",
        "                                  np.abs(load['yhat'][:-1*period[iter]])))\n",
        "\n",
        "  if iter == 0:\n",
        "    print('jkt')\n",
        "    load_jkt = load # saving dataframe\n",
        "    load_jkt['province'] = 'Jakarta'\n",
        "  elif iter == 1:\n",
        "    print('jbr')\n",
        "    load_jbr = load # saving dataframe\n",
        "    load_jbr['province'] = 'Jawa Barat'\n",
        "  elif iter == 2:\n",
        "    print('jtg')\n",
        "    load_jtg = load # saving dataframe\n",
        "    load_jtg['province'] = 'Jawa Tengah'\n",
        "  elif iter == 3:\n",
        "    print('jtm')\n",
        "    load_jtm = load # saving dataframe\n",
        "    load_jtm['province'] = 'Jawa Timur'\n",
        "  elif iter == 4:\n",
        "    print('bnt')\n",
        "    load_bnt = load # saving dataframe\n",
        "    load_bnt['province'] = 'Banten'\n",
        "  elif iter == 5:\n",
        "    print('Bali')\n",
        "    load_bli = load # saving dataframe\n",
        "    load_bli['province'] = 'Bali'\n",
        "  elif iter == 6:\n",
        "    print('diy')\n",
        "    load_diy = load # saving dataframe\n",
        "    load_diy['province'] = 'Yogyakarta'\n",
        "  \n",
        "  print('period:', period[iter])\n",
        "  \n",
        "  # rmsle train\n",
        "  if forecast['yhat'][:-1*period[iter]].min() > 0:\n",
        "    rmsle = mean_squared_log_error(y_true=m1.history['y'],\n",
        "                                     y_pred=forecast['yhat'][:-1*period[iter]],\n",
        "                                     squared=False)\n",
        "    print('RMSLE:', \"{:.4f}\".format(rmsle))\n",
        "  else: print('RMSLE: -' )\n",
        "\n",
        "  # rmse train\n",
        "  rmse = mean_squared_error(y_true=m1.history['y'],\n",
        "                                y_pred=forecast['yhat'][:-1*period[iter]],\n",
        "                                squared=False)\n",
        "  print('RMSE:', \"{:.4f}\".format(rmse))\n",
        "\n",
        "  # mape train\n",
        "  mape = MAPE(y_true=m1.history['y'],\n",
        "                  y_pred=forecast['yhat'][:-1*period[iter]])\n",
        "  print('MAPE:', \"{:.4f}\".format(mape))\n",
        "  print()"
      ],
      "metadata": {
        "id": "RuY-jUhwvQ5U",
        "colab": {
          "base_uri": "https://localhost:8080/"
        },
        "outputId": "65ea233a-4c9c-4182-bd57-8ea94fce2160"
      },
      "execution_count": 15,
      "outputs": [
        {
          "output_type": "stream",
          "name": "stderr",
          "text": [
            "INFO:prophet:Disabling daily seasonality. Run prophet with daily_seasonality=True to override this.\n",
            "DEBUG:cmdstanpy:input tempfile: /tmp/tmpg4p8k4qg/g37gc_2_.json\n",
            "DEBUG:cmdstanpy:input tempfile: /tmp/tmpg4p8k4qg/xcby9o7n.json\n",
            "DEBUG:cmdstanpy:idx 0\n",
            "DEBUG:cmdstanpy:running CmdStan, num_threads: None\n",
            "DEBUG:cmdstanpy:CmdStan args: ['/usr/local/lib/python3.7/dist-packages/prophet/stan_model/prophet_model.bin', 'random', 'seed=95545', 'data', 'file=/tmp/tmpg4p8k4qg/g37gc_2_.json', 'init=/tmp/tmpg4p8k4qg/xcby9o7n.json', 'output', 'file=/tmp/tmpehvo68ei/prophet_model-20220819061154.csv', 'method=optimize', 'algorithm=lbfgs', 'iter=10000']\n",
            "06:11:54 - cmdstanpy - INFO - Chain [1] start processing\n",
            "INFO:cmdstanpy:Chain [1] start processing\n",
            "06:11:58 - cmdstanpy - INFO - Chain [1] done processing\n",
            "INFO:cmdstanpy:Chain [1] done processing\n",
            "INFO:prophet:Disabling daily seasonality. Run prophet with daily_seasonality=True to override this.\n",
            "DEBUG:cmdstanpy:input tempfile: /tmp/tmpg4p8k4qg/y8g98ydq.json\n",
            "DEBUG:cmdstanpy:input tempfile: /tmp/tmpg4p8k4qg/l22ns3zj.json\n",
            "DEBUG:cmdstanpy:idx 0\n",
            "DEBUG:cmdstanpy:running CmdStan, num_threads: None\n",
            "DEBUG:cmdstanpy:CmdStan args: ['/usr/local/lib/python3.7/dist-packages/prophet/stan_model/prophet_model.bin', 'random', 'seed=49352', 'data', 'file=/tmp/tmpg4p8k4qg/y8g98ydq.json', 'init=/tmp/tmpg4p8k4qg/l22ns3zj.json', 'output', 'file=/tmp/tmp4wxt2n2n/prophet_model-20220819061201.csv', 'method=optimize', 'algorithm=lbfgs', 'iter=10000']\n"
          ]
        },
        {
          "output_type": "stream",
          "name": "stdout",
          "text": [
            "jkt\n",
            "period: 30\n",
            "RMSLE: 0.1139\n",
            "RMSE: 376.8548\n",
            "MAPE: 0.0908\n",
            "\n"
          ]
        },
        {
          "output_type": "stream",
          "name": "stderr",
          "text": [
            "06:12:01 - cmdstanpy - INFO - Chain [1] start processing\n",
            "INFO:cmdstanpy:Chain [1] start processing\n",
            "06:12:06 - cmdstanpy - INFO - Chain [1] done processing\n",
            "INFO:cmdstanpy:Chain [1] done processing\n",
            "INFO:prophet:Disabling daily seasonality. Run prophet with daily_seasonality=True to override this.\n",
            "DEBUG:cmdstanpy:input tempfile: /tmp/tmpg4p8k4qg/4co8z3ul.json\n"
          ]
        },
        {
          "output_type": "stream",
          "name": "stdout",
          "text": [
            "jbr\n",
            "period: 30\n",
            "RMSLE: 0.1859\n",
            "RMSE: 339.7463\n",
            "MAPE: 0.1391\n",
            "\n"
          ]
        },
        {
          "output_type": "stream",
          "name": "stderr",
          "text": [
            "DEBUG:cmdstanpy:input tempfile: /tmp/tmpg4p8k4qg/i9_q_azj.json\n",
            "DEBUG:cmdstanpy:idx 0\n",
            "DEBUG:cmdstanpy:running CmdStan, num_threads: None\n",
            "DEBUG:cmdstanpy:CmdStan args: ['/usr/local/lib/python3.7/dist-packages/prophet/stan_model/prophet_model.bin', 'random', 'seed=32379', 'data', 'file=/tmp/tmpg4p8k4qg/4co8z3ul.json', 'init=/tmp/tmpg4p8k4qg/i9_q_azj.json', 'output', 'file=/tmp/tmpbpt178hl/prophet_model-20220819061209.csv', 'method=optimize', 'algorithm=lbfgs', 'iter=10000']\n",
            "06:12:09 - cmdstanpy - INFO - Chain [1] start processing\n",
            "INFO:cmdstanpy:Chain [1] start processing\n",
            "06:12:15 - cmdstanpy - INFO - Chain [1] done processing\n",
            "INFO:cmdstanpy:Chain [1] done processing\n",
            "INFO:prophet:Disabling daily seasonality. Run prophet with daily_seasonality=True to override this.\n",
            "DEBUG:cmdstanpy:input tempfile: /tmp/tmpg4p8k4qg/avqo_zl0.json\n"
          ]
        },
        {
          "output_type": "stream",
          "name": "stdout",
          "text": [
            "jtg\n",
            "period: 21\n",
            "RMSLE: 0.1459\n",
            "RMSE: 155.1930\n",
            "MAPE: 0.1178\n",
            "\n"
          ]
        },
        {
          "output_type": "stream",
          "name": "stderr",
          "text": [
            "DEBUG:cmdstanpy:input tempfile: /tmp/tmpg4p8k4qg/v4zej2gx.json\n",
            "DEBUG:cmdstanpy:idx 0\n",
            "DEBUG:cmdstanpy:running CmdStan, num_threads: None\n",
            "DEBUG:cmdstanpy:CmdStan args: ['/usr/local/lib/python3.7/dist-packages/prophet/stan_model/prophet_model.bin', 'random', 'seed=52094', 'data', 'file=/tmp/tmpg4p8k4qg/avqo_zl0.json', 'init=/tmp/tmpg4p8k4qg/v4zej2gx.json', 'output', 'file=/tmp/tmph8unidc9/prophet_model-20220819061219.csv', 'method=optimize', 'algorithm=lbfgs', 'iter=10000']\n",
            "06:12:19 - cmdstanpy - INFO - Chain [1] start processing\n",
            "INFO:cmdstanpy:Chain [1] start processing\n",
            "06:12:23 - cmdstanpy - INFO - Chain [1] done processing\n",
            "INFO:cmdstanpy:Chain [1] done processing\n",
            "INFO:prophet:Disabling daily seasonality. Run prophet with daily_seasonality=True to override this.\n",
            "DEBUG:cmdstanpy:input tempfile: /tmp/tmpg4p8k4qg/zwl6oi7s.json\n",
            "DEBUG:cmdstanpy:input tempfile: /tmp/tmpg4p8k4qg/wb1rttjm.json\n",
            "DEBUG:cmdstanpy:idx 0\n",
            "DEBUG:cmdstanpy:running CmdStan, num_threads: None\n",
            "DEBUG:cmdstanpy:CmdStan args: ['/usr/local/lib/python3.7/dist-packages/prophet/stan_model/prophet_model.bin', 'random', 'seed=41166', 'data', 'file=/tmp/tmpg4p8k4qg/zwl6oi7s.json', 'init=/tmp/tmpg4p8k4qg/wb1rttjm.json', 'output', 'file=/tmp/tmp4nb9hen5/prophet_model-20220819061226.csv', 'method=optimize', 'algorithm=lbfgs', 'iter=10000']\n",
            "06:12:26 - cmdstanpy - INFO - Chain [1] start processing\n",
            "INFO:cmdstanpy:Chain [1] start processing\n"
          ]
        },
        {
          "output_type": "stream",
          "name": "stdout",
          "text": [
            "jtm\n",
            "period: 21\n",
            "RMSLE: 0.1261\n",
            "RMSE: 275.1138\n",
            "MAPE: 0.0925\n",
            "\n"
          ]
        },
        {
          "output_type": "stream",
          "name": "stderr",
          "text": [
            "06:12:32 - cmdstanpy - INFO - Chain [1] done processing\n",
            "INFO:cmdstanpy:Chain [1] done processing\n",
            "INFO:prophet:Disabling daily seasonality. Run prophet with daily_seasonality=True to override this.\n",
            "DEBUG:cmdstanpy:input tempfile: /tmp/tmpg4p8k4qg/cn_su_gh.json\n",
            "DEBUG:cmdstanpy:input tempfile: /tmp/tmpg4p8k4qg/59prc0ia.json\n",
            "DEBUG:cmdstanpy:idx 0\n",
            "DEBUG:cmdstanpy:running CmdStan, num_threads: None\n"
          ]
        },
        {
          "output_type": "stream",
          "name": "stdout",
          "text": [
            "bnt\n",
            "period: 21\n",
            "RMSLE: 0.2084\n",
            "RMSE: 233.2306\n",
            "MAPE: 0.1563\n",
            "\n"
          ]
        },
        {
          "output_type": "stream",
          "name": "stderr",
          "text": [
            "DEBUG:cmdstanpy:CmdStan args: ['/usr/local/lib/python3.7/dist-packages/prophet/stan_model/prophet_model.bin', 'random', 'seed=94778', 'data', 'file=/tmp/tmpg4p8k4qg/cn_su_gh.json', 'init=/tmp/tmpg4p8k4qg/59prc0ia.json', 'output', 'file=/tmp/tmpw2hwm0m9/prophet_model-20220819061235.csv', 'method=optimize', 'algorithm=lbfgs', 'iter=10000']\n",
            "06:12:35 - cmdstanpy - INFO - Chain [1] start processing\n",
            "INFO:cmdstanpy:Chain [1] start processing\n",
            "06:12:39 - cmdstanpy - INFO - Chain [1] done processing\n",
            "INFO:cmdstanpy:Chain [1] done processing\n",
            "INFO:prophet:Disabling daily seasonality. Run prophet with daily_seasonality=True to override this.\n",
            "DEBUG:cmdstanpy:input tempfile: /tmp/tmpg4p8k4qg/9kxt3cwh.json\n",
            "DEBUG:cmdstanpy:input tempfile: /tmp/tmpg4p8k4qg/7wyq0zmc.json\n",
            "DEBUG:cmdstanpy:idx 0\n",
            "DEBUG:cmdstanpy:running CmdStan, num_threads: None\n",
            "DEBUG:cmdstanpy:CmdStan args: ['/usr/local/lib/python3.7/dist-packages/prophet/stan_model/prophet_model.bin', 'random', 'seed=54397', 'data', 'file=/tmp/tmpg4p8k4qg/9kxt3cwh.json', 'init=/tmp/tmpg4p8k4qg/7wyq0zmc.json', 'output', 'file=/tmp/tmptf81u0io/prophet_model-20220819061243.csv', 'method=optimize', 'algorithm=lbfgs', 'iter=10000']\n",
            "06:12:43 - cmdstanpy - INFO - Chain [1] start processing\n",
            "INFO:cmdstanpy:Chain [1] start processing\n"
          ]
        },
        {
          "output_type": "stream",
          "name": "stdout",
          "text": [
            "Bali\n",
            "period: 14\n",
            "RMSLE: 0.1840\n",
            "RMSE: 103.9812\n",
            "MAPE: 0.1485\n",
            "\n"
          ]
        },
        {
          "output_type": "stream",
          "name": "stderr",
          "text": [
            "06:12:46 - cmdstanpy - INFO - Chain [1] done processing\n",
            "INFO:cmdstanpy:Chain [1] done processing\n"
          ]
        },
        {
          "output_type": "stream",
          "name": "stdout",
          "text": [
            "diy\n",
            "period: 7\n",
            "RMSLE: 0.2033\n",
            "RMSE: 84.8180\n",
            "MAPE: 0.1768\n",
            "\n"
          ]
        }
      ]
    },
    {
      "cell_type": "code",
      "source": [
        "loads = pd.concat([load_jkt, load_jbr, load_jtg, load_jtm, load_bnt, load_bli, load_diy], ignore_index=True)\n",
        "loads.tail(5)"
      ],
      "metadata": {
        "id": "sJpP-k1--U7A",
        "colab": {
          "base_uri": "https://localhost:8080/",
          "height": 357
        },
        "outputId": "50266c7a-14a1-46d7-ac2a-8fe6d4d6bec4"
      },
      "execution_count": 16,
      "outputs": [
        {
          "output_type": "execute_result",
          "data": {
            "text/plain": [
              "             ds      trend  extra_regressors_multiplicative  holidays  \\\n",
              "6252 2022-08-18  17.455772                        -0.086095  0.154607   \n",
              "6253 2022-08-19  17.186192                        -0.085293  0.211349   \n",
              "6254 2022-08-20  16.920814                        -0.082672  0.202210   \n",
              "6255 2022-08-21  16.659572                        -0.079570  0.139177   \n",
              "6256 2022-08-22  16.402401                        -0.079688  0.081295   \n",
              "\n",
              "      MA_grocery_pharmacy  MA_parks  MA_residential  MA_retail_recreation  \\\n",
              "6252            -0.032564 -0.033591        0.005524              0.076825   \n",
              "6253            -0.031524 -0.033123        0.006087              0.075397   \n",
              "6254            -0.029651 -0.030784        0.007215              0.072063   \n",
              "6255            -0.028610 -0.028913        0.007778              0.070158   \n",
              "6256            -0.029235 -0.029732        0.008906              0.070634   \n",
              "\n",
              "      MA_transit_stations  MA_workplaces    weekly    yearly       yhat  \\\n",
              "6252            -0.039079      -0.063210 -0.009497  1.038020  46.071013   \n",
              "6253            -0.038363      -0.063767  0.012853  1.025493  48.774268   \n",
              "6254            -0.037468      -0.064046  0.008107  1.013537  47.163051   \n",
              "6255            -0.036216      -0.063767  0.007790  1.002129  43.407031   \n",
              "6256            -0.036216      -0.064046  0.004644  0.991225  39.698849   \n",
              "\n",
              "      actual  ape    province  \n",
              "6252     NaN  NaN  Yogyakarta  \n",
              "6253     NaN  NaN  Yogyakarta  \n",
              "6254     NaN  NaN  Yogyakarta  \n",
              "6255     NaN  NaN  Yogyakarta  \n",
              "6256     NaN  NaN  Yogyakarta  "
            ],
            "text/html": [
              "\n",
              "  <div id=\"df-c5b4dda1-5ec3-4853-884b-700180a9eca8\">\n",
              "    <div class=\"colab-df-container\">\n",
              "      <div>\n",
              "<style scoped>\n",
              "    .dataframe tbody tr th:only-of-type {\n",
              "        vertical-align: middle;\n",
              "    }\n",
              "\n",
              "    .dataframe tbody tr th {\n",
              "        vertical-align: top;\n",
              "    }\n",
              "\n",
              "    .dataframe thead th {\n",
              "        text-align: right;\n",
              "    }\n",
              "</style>\n",
              "<table border=\"1\" class=\"dataframe\">\n",
              "  <thead>\n",
              "    <tr style=\"text-align: right;\">\n",
              "      <th></th>\n",
              "      <th>ds</th>\n",
              "      <th>trend</th>\n",
              "      <th>extra_regressors_multiplicative</th>\n",
              "      <th>holidays</th>\n",
              "      <th>MA_grocery_pharmacy</th>\n",
              "      <th>MA_parks</th>\n",
              "      <th>MA_residential</th>\n",
              "      <th>MA_retail_recreation</th>\n",
              "      <th>MA_transit_stations</th>\n",
              "      <th>MA_workplaces</th>\n",
              "      <th>weekly</th>\n",
              "      <th>yearly</th>\n",
              "      <th>yhat</th>\n",
              "      <th>actual</th>\n",
              "      <th>ape</th>\n",
              "      <th>province</th>\n",
              "    </tr>\n",
              "  </thead>\n",
              "  <tbody>\n",
              "    <tr>\n",
              "      <th>6252</th>\n",
              "      <td>2022-08-18</td>\n",
              "      <td>17.455772</td>\n",
              "      <td>-0.086095</td>\n",
              "      <td>0.154607</td>\n",
              "      <td>-0.032564</td>\n",
              "      <td>-0.033591</td>\n",
              "      <td>0.005524</td>\n",
              "      <td>0.076825</td>\n",
              "      <td>-0.039079</td>\n",
              "      <td>-0.063210</td>\n",
              "      <td>-0.009497</td>\n",
              "      <td>1.038020</td>\n",
              "      <td>46.071013</td>\n",
              "      <td>NaN</td>\n",
              "      <td>NaN</td>\n",
              "      <td>Yogyakarta</td>\n",
              "    </tr>\n",
              "    <tr>\n",
              "      <th>6253</th>\n",
              "      <td>2022-08-19</td>\n",
              "      <td>17.186192</td>\n",
              "      <td>-0.085293</td>\n",
              "      <td>0.211349</td>\n",
              "      <td>-0.031524</td>\n",
              "      <td>-0.033123</td>\n",
              "      <td>0.006087</td>\n",
              "      <td>0.075397</td>\n",
              "      <td>-0.038363</td>\n",
              "      <td>-0.063767</td>\n",
              "      <td>0.012853</td>\n",
              "      <td>1.025493</td>\n",
              "      <td>48.774268</td>\n",
              "      <td>NaN</td>\n",
              "      <td>NaN</td>\n",
              "      <td>Yogyakarta</td>\n",
              "    </tr>\n",
              "    <tr>\n",
              "      <th>6254</th>\n",
              "      <td>2022-08-20</td>\n",
              "      <td>16.920814</td>\n",
              "      <td>-0.082672</td>\n",
              "      <td>0.202210</td>\n",
              "      <td>-0.029651</td>\n",
              "      <td>-0.030784</td>\n",
              "      <td>0.007215</td>\n",
              "      <td>0.072063</td>\n",
              "      <td>-0.037468</td>\n",
              "      <td>-0.064046</td>\n",
              "      <td>0.008107</td>\n",
              "      <td>1.013537</td>\n",
              "      <td>47.163051</td>\n",
              "      <td>NaN</td>\n",
              "      <td>NaN</td>\n",
              "      <td>Yogyakarta</td>\n",
              "    </tr>\n",
              "    <tr>\n",
              "      <th>6255</th>\n",
              "      <td>2022-08-21</td>\n",
              "      <td>16.659572</td>\n",
              "      <td>-0.079570</td>\n",
              "      <td>0.139177</td>\n",
              "      <td>-0.028610</td>\n",
              "      <td>-0.028913</td>\n",
              "      <td>0.007778</td>\n",
              "      <td>0.070158</td>\n",
              "      <td>-0.036216</td>\n",
              "      <td>-0.063767</td>\n",
              "      <td>0.007790</td>\n",
              "      <td>1.002129</td>\n",
              "      <td>43.407031</td>\n",
              "      <td>NaN</td>\n",
              "      <td>NaN</td>\n",
              "      <td>Yogyakarta</td>\n",
              "    </tr>\n",
              "    <tr>\n",
              "      <th>6256</th>\n",
              "      <td>2022-08-22</td>\n",
              "      <td>16.402401</td>\n",
              "      <td>-0.079688</td>\n",
              "      <td>0.081295</td>\n",
              "      <td>-0.029235</td>\n",
              "      <td>-0.029732</td>\n",
              "      <td>0.008906</td>\n",
              "      <td>0.070634</td>\n",
              "      <td>-0.036216</td>\n",
              "      <td>-0.064046</td>\n",
              "      <td>0.004644</td>\n",
              "      <td>0.991225</td>\n",
              "      <td>39.698849</td>\n",
              "      <td>NaN</td>\n",
              "      <td>NaN</td>\n",
              "      <td>Yogyakarta</td>\n",
              "    </tr>\n",
              "  </tbody>\n",
              "</table>\n",
              "</div>\n",
              "      <button class=\"colab-df-convert\" onclick=\"convertToInteractive('df-c5b4dda1-5ec3-4853-884b-700180a9eca8')\"\n",
              "              title=\"Convert this dataframe to an interactive table.\"\n",
              "              style=\"display:none;\">\n",
              "        \n",
              "  <svg xmlns=\"http://www.w3.org/2000/svg\" height=\"24px\"viewBox=\"0 0 24 24\"\n",
              "       width=\"24px\">\n",
              "    <path d=\"M0 0h24v24H0V0z\" fill=\"none\"/>\n",
              "    <path d=\"M18.56 5.44l.94 2.06.94-2.06 2.06-.94-2.06-.94-.94-2.06-.94 2.06-2.06.94zm-11 1L8.5 8.5l.94-2.06 2.06-.94-2.06-.94L8.5 2.5l-.94 2.06-2.06.94zm10 10l.94 2.06.94-2.06 2.06-.94-2.06-.94-.94-2.06-.94 2.06-2.06.94z\"/><path d=\"M17.41 7.96l-1.37-1.37c-.4-.4-.92-.59-1.43-.59-.52 0-1.04.2-1.43.59L10.3 9.45l-7.72 7.72c-.78.78-.78 2.05 0 2.83L4 21.41c.39.39.9.59 1.41.59.51 0 1.02-.2 1.41-.59l7.78-7.78 2.81-2.81c.8-.78.8-2.07 0-2.86zM5.41 20L4 18.59l7.72-7.72 1.47 1.35L5.41 20z\"/>\n",
              "  </svg>\n",
              "      </button>\n",
              "      \n",
              "  <style>\n",
              "    .colab-df-container {\n",
              "      display:flex;\n",
              "      flex-wrap:wrap;\n",
              "      gap: 12px;\n",
              "    }\n",
              "\n",
              "    .colab-df-convert {\n",
              "      background-color: #E8F0FE;\n",
              "      border: none;\n",
              "      border-radius: 50%;\n",
              "      cursor: pointer;\n",
              "      display: none;\n",
              "      fill: #1967D2;\n",
              "      height: 32px;\n",
              "      padding: 0 0 0 0;\n",
              "      width: 32px;\n",
              "    }\n",
              "\n",
              "    .colab-df-convert:hover {\n",
              "      background-color: #E2EBFA;\n",
              "      box-shadow: 0px 1px 2px rgba(60, 64, 67, 0.3), 0px 1px 3px 1px rgba(60, 64, 67, 0.15);\n",
              "      fill: #174EA6;\n",
              "    }\n",
              "\n",
              "    [theme=dark] .colab-df-convert {\n",
              "      background-color: #3B4455;\n",
              "      fill: #D2E3FC;\n",
              "    }\n",
              "\n",
              "    [theme=dark] .colab-df-convert:hover {\n",
              "      background-color: #434B5C;\n",
              "      box-shadow: 0px 1px 3px 1px rgba(0, 0, 0, 0.15);\n",
              "      filter: drop-shadow(0px 1px 2px rgba(0, 0, 0, 0.3));\n",
              "      fill: #FFFFFF;\n",
              "    }\n",
              "  </style>\n",
              "\n",
              "      <script>\n",
              "        const buttonEl =\n",
              "          document.querySelector('#df-c5b4dda1-5ec3-4853-884b-700180a9eca8 button.colab-df-convert');\n",
              "        buttonEl.style.display =\n",
              "          google.colab.kernel.accessAllowed ? 'block' : 'none';\n",
              "\n",
              "        async function convertToInteractive(key) {\n",
              "          const element = document.querySelector('#df-c5b4dda1-5ec3-4853-884b-700180a9eca8');\n",
              "          const dataTable =\n",
              "            await google.colab.kernel.invokeFunction('convertToInteractive',\n",
              "                                                     [key], {});\n",
              "          if (!dataTable) return;\n",
              "\n",
              "          const docLinkHtml = 'Like what you see? Visit the ' +\n",
              "            '<a target=\"_blank\" href=https://colab.research.google.com/notebooks/data_table.ipynb>data table notebook</a>'\n",
              "            + ' to learn more about interactive tables.';\n",
              "          element.innerHTML = '';\n",
              "          dataTable['output_type'] = 'display_data';\n",
              "          await google.colab.output.renderOutput(dataTable, element);\n",
              "          const docLink = document.createElement('div');\n",
              "          docLink.innerHTML = docLinkHtml;\n",
              "          element.appendChild(docLink);\n",
              "        }\n",
              "      </script>\n",
              "    </div>\n",
              "  </div>\n",
              "  "
            ]
          },
          "metadata": {},
          "execution_count": 16
        }
      ]
    },
    {
      "cell_type": "markdown",
      "source": [
        "# Load Data"
      ],
      "metadata": {
        "id": "QyO3Pq7gcgmV"
      }
    },
    {
      "cell_type": "code",
      "source": [
        "# Upload to GSheet\n",
        "from google.colab import auth\n",
        "auth.authenticate_user()\n",
        "\n",
        "import gspread\n",
        "from google.auth import default\n",
        "creds, _ = default()\n",
        "from gspread_dataframe import set_with_dataframe\n",
        "\n",
        "gc = gspread.authorize(creds)\n",
        "# sh = gc.create('covid.mobility.output')\n",
        "\n",
        "# Open our new sheet and add some data.\n",
        "worksheet = gc.open('covid.mobility.output').sheet1\n",
        "set_with_dataframe(worksheet, loads)"
      ],
      "metadata": {
        "id": "9BjmdLSKcrZH"
      },
      "execution_count": 17,
      "outputs": []
    },
    {
      "cell_type": "code",
      "source": [
        ""
      ],
      "metadata": {
        "id": "K7OL7RIg54G0"
      },
      "execution_count": null,
      "outputs": []
    }
  ],
  "metadata": {
    "colab": {
      "collapsed_sections": [
        "qTrDhhg-SKHn"
      ],
      "name": "covid.mobility.result.ipynb",
      "provenance": [],
      "toc_visible": true,
      "authorship_tag": "ABX9TyOFwmHoCTIq4qofrYtTRb/O",
      "include_colab_link": true
    },
    "kernelspec": {
      "display_name": "Python 3",
      "name": "python3"
    },
    "language_info": {
      "name": "python"
    }
  },
  "nbformat": 4,
  "nbformat_minor": 0
}